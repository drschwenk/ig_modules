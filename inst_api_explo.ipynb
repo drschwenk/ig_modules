{
 "metadata": {
  "name": "",
  "signature": "sha256:755e5a152120f503fdaf76b5d4993eb02004363523d3a5fe5f48de0d5380bd44"
 },
 "nbformat": 3,
 "nbformat_minor": 0,
 "worksheets": [
  {
   "cells": [
    {
     "cell_type": "code",
     "collapsed": false,
     "input": [
      "from instagram.client import InstagramAPI\n",
      "from IPython.core.display import HTML\n",
      "from i_tokes import *"
     ],
     "language": "python",
     "metadata": {},
     "outputs": [],
     "prompt_number": 2
    },
    {
     "cell_type": "code",
     "collapsed": false,
     "input": [
      "api = InstagramAPI(client_id=CLIENT_ID, client_secret=CLIENT_SECRET)"
     ],
     "language": "python",
     "metadata": {},
     "outputs": [],
     "prompt_number": 3
    },
    {
     "cell_type": "code",
     "collapsed": false,
     "input": [
      "content = \"<h2>Location Recent Media</h2>\"\n",
      "try:\n",
      "    media_search = api.media_search(lat=\"40.113818215462999\",lng=\"-88.207689252733005\",distance=50)    \n",
      "    photos = []\n",
      "    for media in media_search:\n",
      "        photos.append('<img src=\"%s\"/>' % media.get_standard_resolution_url())\n",
      "    content += ''.join(photos)\n",
      "except Exception as e:\n",
      "    print(e)  "
     ],
     "language": "python",
     "metadata": {},
     "outputs": [],
     "prompt_number": 12
    },
    {
     "cell_type": "code",
     "collapsed": false,
     "input": [
      "# HTML(content)  "
     ],
     "language": "python",
     "metadata": {},
     "outputs": [],
     "prompt_number": 15
    },
    {
     "cell_type": "code",
     "collapsed": false,
     "input": [
      "# latitude = 33.669716200000003\n",
      "# longitude = -112.23904450000001\n",
      "# try:\n",
      "#     media_search = api.media_search(lat=latitude,lng=longitude,distance=50)    \n",
      "#     photos = []\n",
      "#     for media in media_search:\n",
      "#         print(media.caption.text)\n",
      "# except Exception as e:\n",
      "#     print(e)  \n",
      "    "
     ],
     "language": "python",
     "metadata": {},
     "outputs": [],
     "prompt_number": 18
    },
    {
     "cell_type": "code",
     "collapsed": false,
     "input": [
      "latitude = 40.110112999999998\n",
      "longitude = -88.233217999999994\n",
      "# latitude = 40.113818215462999\n",
      "# longitude = -88.207689252733005\n",
      "mint=1407716699\n",
      "maxt=1420680255\n",
      "\n",
      "media_result = api.media_search(lat=latitude,lng=longitude,min_timestamp= mint ,max_timestamp=maxt,distance=30)    "
     ],
     "language": "python",
     "metadata": {},
     "outputs": [],
     "prompt_number": 65
    },
    {
     "cell_type": "code",
     "collapsed": false,
     "input": [
      "for media in media_result:\n",
      "    try:\n",
      "        print((media.caption.text))\n",
      "    except Exception as e:\n",
      "        print(e)"
     ],
     "language": "python",
     "metadata": {},
     "outputs": [
      {
       "output_type": "stream",
       "stream": "stdout",
       "text": [
        "drive home was beautiful\n",
        "Spicy Tonkotsu Ramen from Sakanaya in Champaign, Illinois! Not the best ramen I've ever had, would give it a 5/10, but it satisfied my ramen craving and curiosity. It was spicy enough after I ordered a bit more spicy paste, but the egg was disappointing ): It tasted like a regular boiled egg I make at home! Soda sad. Also, the white onions threw me off a bit.. Anyway, overall it was a very very average bowl. #sadelorie #eloriesramenhunt #ramenhunt #ramen #spicytonkotsu #sakanaya #champaign #peepingnarutosocute\n",
        "So much yes right now. \ub9db\uc788\ub2e4! \ud83d\ude0d\ud83c\udf63\n",
        "Celebrating the end of the semester with some awesome sushi. #uiuc #sakanaya\n",
        "'NoneType' object has no attribute 'text'\n",
        "'NoneType' object has no attribute 'text'\n",
        "\ub098\ub3c4 \ub4dc\ub514\uc5b4 willis tower!! #\ub0e0\ub0e0 #\uba39\uc2a4\ud0c0\uadf8\ub7a8 #\uc2a4\uc2dc #\uaca8\uc6b8\ubc29\ud559 #\uc2dc\uc791 #\ub180\uc790\n",
        "\u9999\u69df\u6700\u540e\u4e00\u9910\u2026\u7b80\u76f4\u95f2\u4e86\u4e24\u5929\uff01\uff01\u660e\u665a\u89c1\u5230\u7238\u5988\u5566\uff01#night\n",
        "my savior to hell/finals week; celebrating the end to my last fall semester ever\n",
        "First time at Sakanaya with @ashkips\n",
        "My fave.\n",
        "#sushi with #goldflakes is the fanciest sushi\n",
        "Just met this $exy lebane$e movin like a dancer \ud83d\udc83\ud83d\ude0d\ud83c\udf63\n",
        "Tuna, rice, and everything nice \ud83d\ude0b\n",
        "#Uni #\u9cd7 #don #\u548c\u98ce #\u6599\u7406\n"
       ]
      }
     ],
     "prompt_number": 66
    },
    {
     "cell_type": "code",
     "collapsed": false,
     "input": [
      "content = \"<h2>Location Recent Media</h2>\"\n",
      "photos = []\n",
      "for media in media_result:\n",
      "    photos.append('<img src=\"%s\"/>' % media.get_standard_resolution_url())\n",
      "    try:\n",
      "        photos += '<p>\"%s\"</p>' % media.caption.text\n",
      "    except Exception as e: \n",
      "        print(e)\n",
      "content += ''.join(photos)\n",
      "\n",
      "HTML(content)  "
     ],
     "language": "python",
     "metadata": {},
     "outputs": [
      {
       "output_type": "stream",
       "stream": "stdout",
       "text": [
        "'NoneType' object has no attribute 'text'\n",
        "'NoneType' object has no attribute 'text'\n"
       ]
      },
      {
       "html": [
        "<h2>Location Recent Media</h2><img src=\"http://scontent.cdninstagram.com/hphotos-xfa1/t51.2885-15/e15/10865261_1380013245633867_394488191_n.jpg\"/><p>\"drive home was beautiful\"</p><img src=\"http://scontent.cdninstagram.com/hphotos-xaf1/t51.2885-15/e15/10865253_1597454603807592_709771344_n.jpg\"/><p>\"Spicy Tonkotsu Ramen from Sakanaya in Champaign, Illinois! Not the best ramen I've ever had, would give it a 5/10, but it satisfied my ramen craving and curiosity. It was spicy enough after I ordered a bit more spicy paste, but the egg was disappointing ): It tasted like a regular boiled egg I make at home! Soda sad. Also, the white onions threw me off a bit.. Anyway, overall it was a very very average bowl. #sadelorie #eloriesramenhunt #ramenhunt #ramen #spicytonkotsu #sakanaya #champaign #peepingnarutosocute\"</p><img src=\"http://scontent.cdninstagram.com/hphotos-xaf1/t51.2885-15/e15/10838514_591695840964259_2087669940_n.jpg\"/><p>\"So much yes right now. \ub9db\uc788\ub2e4! \ud83d\ude0d\ud83c\udf63\"</p><img src=\"http://scontent.cdninstagram.com/hphotos-xfa1/t51.2885-15/e15/10844297_993919587289378_1779164389_n.jpg\"/><p>\"Celebrating the end of the semester with some awesome sushi. #uiuc #sakanaya\"</p><img src=\"http://scontent.cdninstagram.com/hphotos-xaf1/t51.2885-15/e15/915609_477798732358191_938297509_n.jpg\"/><img src=\"http://scontent.cdninstagram.com/hphotos-xfa1/t51.2885-15/e15/10838654_901895439850804_1376547359_n.jpg\"/><img src=\"http://scontent.cdninstagram.com/hphotos-xfa1/t50.2886-16/10877294_402658829900017_1616272300_n.mp4\"/><p>\"\ub098\ub3c4 \ub4dc\ub514\uc5b4 willis tower!! #\ub0e0\ub0e0 #\uba39\uc2a4\ud0c0\uadf8\ub7a8 #\uc2a4\uc2dc #\uaca8\uc6b8\ubc29\ud559 #\uc2dc\uc791 #\ub180\uc790\"</p><img src=\"http://scontent.cdninstagram.com/hphotos-xaf1/t50.2886-16/10877283_849022651786967_1347197759_n.mp4\"/><p>\"\u9999\u69df\u6700\u540e\u4e00\u9910\u2026\u7b80\u76f4\u95f2\u4e86\u4e24\u5929\uff01\uff01\u660e\u665a\u89c1\u5230\u7238\u5988\u5566\uff01#night\"</p><img src=\"http://scontent.cdninstagram.com/hphotos-xaf1/t51.2885-15/e15/10852774_784261778322872_113859244_n.jpg\"/><p>\"One last final for Econ. Two days left for home.\"</p><img src=\"http://scontent.cdninstagram.com/hphotos-xaf1/t51.2885-15/e15/10852758_1580340078866964_1705565181_n.jpg\"/><p>\"my savior to hell/finals week; celebrating the end to my last fall semester ever\"</p><img src=\"http://scontent.cdninstagram.com/hphotos-xfa1/t51.2885-15/e15/10865183_367360560108426_1212006041_n.jpg\"/><p>\"First time at Sakanaya with @ashkips\"</p><img src=\"http://scontent.cdninstagram.com/hphotos-xaf1/t51.2885-15/e15/10832043_689791231136543_2119593883_n.jpg\"/><p>\"My fave.\"</p><img src=\"http://scontent.cdninstagram.com/hphotos-xfa1/t51.2885-15/e15/10831736_359993787512535_981542379_n.jpg\"/><p>\"#sushi with #goldflakes is the fanciest sushi\"</p><img src=\"http://scontent.cdninstagram.com/hphotos-xfa1/t51.2885-15/e15/10844102_812090765496619_1679003611_n.jpg\"/><p>\"Just met this $exy lebane$e movin like a dancer \ud83d\udc83\ud83d\ude0d\ud83c\udf63\"</p><img src=\"http://scontent.cdninstagram.com/hphotos-xap1/t51.2885-15/e15/923748_1574389486124127_353776721_n.jpg\"/><p>\"Tuna, rice, and everything nice \ud83d\ude0b\"</p><img src=\"http://scontent.cdninstagram.com/hphotos-xpa1/t51.2885-15/e15/924101_572721322862900_653834492_n.jpg\"/><p>\"#Uni #\u9cd7 #don #\u548c\u98ce #\u6599\u7406\"</p>"
       ],
       "metadata": {},
       "output_type": "pyout",
       "prompt_number": 135,
       "text": [
        "<IPython.core.display.HTML at 0x103261d30>"
       ]
      }
     ],
     "prompt_number": 135
    },
    {
     "cell_type": "code",
     "collapsed": false,
     "input": [
      "def media_search(): \n",
      "    content = \"<h2>Media Search</h2>\"\n",
      "    try:\n",
      "        api = InstagramAPI(client_id=CLIENT_ID, client_secret=CLIENT_SECRET)        \n",
      "        media_result = api.media_search(lat=latitude,lng=longitude,min_timestamp= mint ,max_timestamp=maxt,distance=30)            \n",
      "        photos = []\n",
      "        for media in media_search:\n",
      "#             photos.append('<img src=\"%s\"/>' % media.get_standard_resolution_url())\n",
      "            try:\n",
      "                photos += '<p>\"%s   ON %s\"</p>' % (media.caption.text,media.caption.created_at)\n",
      "            except Exception as e: \n",
      "                pass\n",
      "        content += ''.join(photos)\n",
      "    except:\n",
      "        pass             \n",
      "    print(\"<br/>Remaining API Calls = %s/%s\" % (api.x_ratelimit_remaining,api.x_ratelimit))\n",
      "    return content"
     ],
     "language": "python",
     "metadata": {},
     "outputs": [],
     "prompt_number": 33
    },
    {
     "cell_type": "code",
     "collapsed": false,
     "input": [
      "media_result = pagi_search()\n",
      "HTML(media_result)  "
     ],
     "language": "python",
     "metadata": {},
     "outputs": [
      {
       "output_type": "stream",
       "stream": "stdout",
       "text": [
        "<br/>Remaining API Calls = 4988/5000\n"
       ]
      },
      {
       "html": [
        "<h2>Media Search</h2>"
       ],
       "metadata": {},
       "output_type": "pyout",
       "prompt_number": 36,
       "text": [
        "<IPython.core.display.HTML at 0x1043b05f8>"
       ]
      }
     ],
     "prompt_number": 36
    },
    {
     "cell_type": "code",
     "collapsed": false,
     "input": [
      "def user_follows(): \n",
      "    content = \"<h2>User Follows</h2>\"\n",
      "    try:\n",
      "        api = InstagramAPI(client_id=CLIENT_ID, client_secret=CLIENT_SECRET)        \n",
      "        # 25025320 is http://instagram.com/instagram\n",
      "        user_follows, next = api.media_search(lat=latitude,lng=longitude,distance=30)\n",
      "        users = []\n",
      "#         for user in user_follows:\n",
      "#             users.append('<li><%s</li>' % (user.username))\n",
      "        while next:\n",
      "            user_follows, next = api.user_follows(with_next_url=next)\n",
      "            for user in user_follows:\n",
      "                users.append('<li>>%s</li>' % (user.caption.text))\n",
      "        content += ''.join(users)\n",
      "    except Exception as e:\n",
      "        print(e)              \n",
      "    print(\"<br/>Remaining API Calls = %s/%s\" % (api.x_ratelimit_remaining,api.x_ratelimit))\n",
      "    return content"
     ],
     "language": "python",
     "metadata": {},
     "outputs": [],
     "prompt_number": 55
    },
    {
     "cell_type": "code",
     "collapsed": false,
     "input": [
      "def media_search2(latitude, longitude, min_time, max_time): \n",
      "    content = ''\n",
      "    try:\n",
      "        api = InstagramAPI(client_id=CLIENT_ID, client_secret=CLIENT_SECRET)        \n",
      "        media_result = api.media_search(lat=latitude,lng=longitude ,min_timestamp= min_time ,max_timestamp=max_time,distance=30)            \n",
      "        photos = []\n",
      "        for media in media_result:\n",
      "#             photos.append('<img src=\"%s\"/>' % media.get_standard_resolution_url())\n",
      "            try:\n",
      "                photos += '<p>\"%s   ON %s\"</p>' % (media.caption.text,media.caption.created_at)\n",
      "#                 photos += '<p> %s\"</p>' % (media.caption.created_at)\n",
      "\n",
      "            except Exception as e: \n",
      "                pass\n",
      "        content += ''.join(photos)\n",
      "    except:\n",
      "        pass             \n",
      "    print(\"<br/>Remaining API Calls = %s/%s\" % (api.x_ratelimit_remaining,api.x_ratelimit))\n",
      "    return content"
     ],
     "language": "python",
     "metadata": {},
     "outputs": [],
     "prompt_number": 38
    },
    {
     "cell_type": "code",
     "collapsed": false,
     "input": [
      "lati = 40.110112999999998\n",
      "longi = -88.233217999999994\n",
      "mint=1407716699\n",
      "maxt=1420680255\n",
      "sds = 3600 * 24 * 7 \n",
      "result=''\n",
      "\n",
      "for i in range(mint,maxt,sds):\n",
      "    result += media_search2(lati, longi, i, i+sds)\n",
      "    print( i, i+sds)\n",
      "\n",
      "HTML(result)  "
     ],
     "language": "python",
     "metadata": {},
     "outputs": [
      {
       "output_type": "stream",
       "stream": "stdout",
       "text": [
        "<br/>Remaining API Calls = 4769/5000\n",
        "1407716699 1408321499\n",
        "<br/>Remaining API Calls = 4768/5000"
       ]
      },
      {
       "output_type": "stream",
       "stream": "stdout",
       "text": [
        "\n",
        "1408321499 1408926299\n",
        "<br/>Remaining API Calls = 4767/5000"
       ]
      },
      {
       "output_type": "stream",
       "stream": "stdout",
       "text": [
        "\n",
        "1408926299 1409531099\n",
        "<br/>Remaining API Calls = 4766/5000"
       ]
      },
      {
       "output_type": "stream",
       "stream": "stdout",
       "text": [
        "\n",
        "1409531099 1410135899\n",
        "<br/>Remaining API Calls = 4765/5000"
       ]
      },
      {
       "output_type": "stream",
       "stream": "stdout",
       "text": [
        "\n",
        "1410135899 1410740699\n",
        "<br/>Remaining API Calls = 4764/5000"
       ]
      },
      {
       "output_type": "stream",
       "stream": "stdout",
       "text": [
        "\n",
        "1410740699 1411345499\n",
        "<br/>Remaining API Calls = 4763/5000"
       ]
      },
      {
       "output_type": "stream",
       "stream": "stdout",
       "text": [
        "\n",
        "1411345499 1411950299\n",
        "<br/>Remaining API Calls = 4762/5000"
       ]
      },
      {
       "output_type": "stream",
       "stream": "stdout",
       "text": [
        "\n",
        "1411950299 1412555099\n",
        "<br/>Remaining API Calls = 4761/5000"
       ]
      },
      {
       "output_type": "stream",
       "stream": "stdout",
       "text": [
        "\n",
        "1412555099 1413159899\n",
        "<br/>Remaining API Calls = 4760/5000"
       ]
      },
      {
       "output_type": "stream",
       "stream": "stdout",
       "text": [
        "\n",
        "1413159899 1413764699\n",
        "<br/>Remaining API Calls = 4759/5000"
       ]
      },
      {
       "output_type": "stream",
       "stream": "stdout",
       "text": [
        "\n",
        "1413764699 1414369499\n",
        "<br/>Remaining API Calls = 4758/5000"
       ]
      },
      {
       "output_type": "stream",
       "stream": "stdout",
       "text": [
        "\n",
        "1414369499 1414974299\n",
        "<br/>Remaining API Calls = 4757/5000"
       ]
      },
      {
       "output_type": "stream",
       "stream": "stdout",
       "text": [
        "\n",
        "1414974299 1415579099\n",
        "<br/>Remaining API Calls = 4756/5000"
       ]
      },
      {
       "output_type": "stream",
       "stream": "stdout",
       "text": [
        "\n",
        "1415579099 1416183899\n",
        "<br/>Remaining API Calls = 4755/5000"
       ]
      },
      {
       "output_type": "stream",
       "stream": "stdout",
       "text": [
        "\n",
        "1416183899 1416788699\n",
        "<br/>Remaining API Calls = 4754/5000"
       ]
      },
      {
       "output_type": "stream",
       "stream": "stdout",
       "text": [
        "\n",
        "1416788699 1417393499\n",
        "<br/>Remaining API Calls = 4753/5000"
       ]
      },
      {
       "output_type": "stream",
       "stream": "stdout",
       "text": [
        "\n",
        "1417393499 1417998299\n",
        "<br/>Remaining API Calls = 4752/5000"
       ]
      },
      {
       "output_type": "stream",
       "stream": "stdout",
       "text": [
        "\n",
        "1417998299 1418603099\n",
        "<br/>Remaining API Calls = 4751/5000"
       ]
      },
      {
       "output_type": "stream",
       "stream": "stdout",
       "text": [
        "\n",
        "1418603099 1419207899\n",
        "<br/>Remaining API Calls = 4750/5000"
       ]
      },
      {
       "output_type": "stream",
       "stream": "stdout",
       "text": [
        "\n",
        "1419207899 1419812699\n",
        "<br/>Remaining API Calls = 4749/5000"
       ]
      },
      {
       "output_type": "stream",
       "stream": "stdout",
       "text": [
        "\n",
        "1419812699 1420417499\n",
        "<br/>Remaining API Calls = 4748/5000"
       ]
      },
      {
       "output_type": "stream",
       "stream": "stdout",
       "text": [
        "\n",
        "1420417499 1421022299\n",
        "Object `HTML(result)` not found\n"
       ]
      }
     ],
     "prompt_number": 40
    },
    {
     "cell_type": "code",
     "collapsed": false,
     "input": [
      "mint=1407716699\n",
      "maxt=1420680255\n",
      "sds = 3600 * 24 * 7 \n",
      "(maxt-mint)//sds"
     ],
     "language": "python",
     "metadata": {},
     "outputs": [
      {
       "metadata": {},
       "output_type": "pyout",
       "prompt_number": 20,
       "text": [
        "21"
       ]
      }
     ],
     "prompt_number": 20
    },
    {
     "cell_type": "code",
     "collapsed": false,
     "input": [
      "result"
     ],
     "language": "python",
     "metadata": {},
     "outputs": [
      {
       "metadata": {},
       "output_type": "pyout",
       "prompt_number": 30,
       "text": [
        "''"
       ]
      }
     ],
     "prompt_number": 30
    },
    {
     "cell_type": "code",
     "collapsed": false,
     "input": [
      "HTML(result)  "
     ],
     "language": "python",
     "metadata": {},
     "outputs": [
      {
       "html": [
        "<p>\"first #sakanaya #date with this one ;)   ON 2014-08-17 00:07:59\"</p><p>\"Come eat! We'll serve you! #Sakanaya #uiuc #asianinvasion #thatasianpose   ON 2014-08-13 23:38:55\"</p><p>\"Missed this woman so much!! Thank you for the wake up visit @mommalonglegsss #bestie #mommasnoop #instagood   ON 2014-08-13 22:29:12\"</p><p>\"@veethebumblebee where have you been all my life? \ud83d\udc9a\ud83d\udc99\ud83d\udc9c   ON 2014-08-24 15:11:03\"</p><p>\"\u5370\u5ea6\u4eba\u4ee5\u540e\u662f\u6211\u597d\u670b\u53cb   ON 2014-08-23 01:35:57\"</p><p>\"Seriously, the best place to get a tattoo in CU.   ON 2014-08-22 23:01:10\"</p><p>\"No filter   ON 2014-08-22 13:56:47\"</p><p>\"life is about food..   ON 2014-08-20 21:32:18\"</p><p>\"#sushi#best#uiuc#patrickni   ON 2014-09-01 00:17:03\"</p><p>\"Celebrating Dan with sake, sushi and @hesslau15   ON 2014-08-30 02:22:55\"</p><p>\"\u96e8\u540e\u5929\u6c14\u6674\ud83d\udcad   ON 2014-08-29 21:44:04\"</p><p>\"Birthday Dinner with my favessss   ON 2014-08-29 04:44:05\"</p><p>\"Check it out#cool door projection light for Subaru BRZ#cool#swag#projection light#subaru#brz#sti   ON 2014-08-28 03:54:58\"</p><p>\"It's #nationaldogday. And I am a dog. Therefore, imma give a shout out to mahself #bowties   ON 2014-08-27 00:55:47\"</p><p>\"\u5b83\u53ebchampaign-urbana\ud83d\ude13\ud83d\ude13\ud83d\ude13   ON 2014-08-26 22:36:07\"</p><p>\"Luv u babe .\ud83d\ude0d\ud83d\ude0d\ud83c\udde8\ud83c\uddf3   ON 2014-08-25 02:40:08\"</p><p>\"Sushi Sunday \ud83c\udf63 #wasabi   ON 2014-08-25 01:19:55\"</p><p>\"Happy #mid-autumn#festival\ud83d\ude0aNever felt its meaning until in another country\ud83d\ude2d\ud83d\ude2d Didn't like #mooncake until it becomes a luxury.   ON 2014-09-07 04:19:19\"</p><p>\"Dim sum!!Long time no see my love!   ON 2014-09-06 17:38:04\"</p><p>\"What a beautiful day! Productive day, dollar tacos, and Starbucks. Working hard and treatin' mahself for the day before my #21st birthday. #gopro #100daysofhappiness #day28   ON 2014-09-03 23:07:03\"</p><p>\"\u5c0f\u63a8\u8f66\ud83d\udc3d\ud83d\udc3d   ON 2014-09-03 14:28:19\"</p><p>\"Late-night meal\n",
        "#\uc57c\uc2dd   ON 2014-09-03 04:18:15\"</p><p>\"Hunnid stacks   ON 2014-09-03 02:58:07\"</p><p>\"i will definitely miss this place after graduate #vscocam#sakanaya#champaign#uiuc#bff   ON 2014-09-03 00:23:03\"</p><p>\"#2yearsago #\u81ea\u5df1\u90fd\u6ca1\u8ba4\u51fa\u6765\u5462   ON 2014-09-02 02:26:22\"</p><p>\"#salmon#sushi#roll#sashimi\ud83c\udf63   ON 2014-09-01 23:33:55\"</p><p>\"Ella+ramen=happy   ON 2014-09-14 00:33:48\"</p><p>\"For serious. @jaush   ON 2014-09-13 02:37:45\"</p><p>\"Emma^2 \ud83d\udc81   ON 2014-09-13 01:25:38\"</p><p>\"\u8ddfBB\u6765\u770b\u4e00\u751f\u4e00\u4e16\ud83d\udc4f\ud83d\udc4f   ON 2014-09-09 06:04:34\"</p><p>\"\"Whoever said diamonds are a girl's best friend never had a dog\" \ud83d\udc3e Thank you for being my best friend, rock, and constant through everything I've been through. I miss you more with every day that passes but I know a part of you will stay with me forever. Happy (would've been) 14th Birthday, Barney - I love you. \ud83d\udc36\ud83d\udc9c   ON 2014-09-08 22:09:19\"</p><p>\"I love salmon\ud83d\ude0f\ud83d\ude0f   ON 2014-09-21 06:33:49\"</p><p>\"Big apple!   ON 2014-09-21 02:47:45\"</p><p>\"Half and half chicken wings   ON 2014-09-21 02:47:11\"</p><p>\"Twist potato ;)   ON 2014-09-21 02:46:42\"</p><p>\"\uc5b4\uc81c\uc758 \uc0ac\uce58\u314b #\ubb3c\ub860\ub0a8\uc790\ub791 #\ub458\uc774\ud480\ub85c\ud798\uc8fc\uace0\uac10 #\uc544\ubb34\uc77c\uc5c6\uc74c #\ub610\ub974\ub974   ON 2014-09-20 21:29:36\"</p><p>\"Em squared #roomielove \ud83d\udc95   ON 2014-09-20 05:45:03\"</p><p>\"#sushilovers   ON 2014-09-20 03:12:38\"</p><p>\"Too damn good \ud83c\udf63\ud83c\udf63   ON 2014-09-19 23:57:24\"</p><p>\"Yesterday, I went out for dinner with @stephaniealiu \ud83d\ude18 #Happy #Monday #dinner #Japanese #food #TonkotsuRamen #SAKANAYA #cookies #sweet   ON 2014-09-17 02:20:19\"</p><p>\"#sakanaya   ON 2014-09-16 04:06:15\"</p><p>\"\u4f60\u6700\u91cd\u8981. \u54ea\u6015\u53ea\u662f\u53ef\u4ee5\u89c1\u51e0\u4e2a\u5c0f\u65f6\uff0c\u8fd8\u662f\u60f3\u8d70\u5230\u4f60\u8eab\u8fb9\u3002#\u660e\u5929\u89c1   ON 2014-09-27 03:42:08\"</p><p>\"Friday night dinners.   ON 2014-09-26 23:28:45\"</p><p>\"depending on the power of 'murica to get through the night \ud83d\udcaa\ud83d\ude4c\ud83c\udfc8\ud83c\udf3d   ON 2014-09-26 22:18:44\"</p><p>\"\ud83c\udf5c\ud83d\udc95 #thankyou   ON 2014-09-26 02:10:27\"</p><p>\"Ohmahgawd #porterrobinson   ON 2014-09-25 19:32:51\"</p><p>\"Willis tower for dinner\ud83d\ude0d   ON 2014-09-23 02:24:29\"</p><p>\"Pre-hair cut and dye.   ON 2014-09-22 20:30:36\"</p><p>\"Tis is good!! Sooo full though!! #sushi #food #foodporn #iger #don #alotoffood #yay #yumyum #girls #dinner #church #awesome #stillfull #miss #misschu #everyday #enjoy #wow #wataday #cold #weather #tada #niceplating #nottatexpensive #ic   ON 2014-10-05 01:29:36\"</p><p>\"\u591c\u5bb5   ON 2014-10-04 03:00:56\"</p><p>\"We're pretty.   ON 2014-10-03 20:17:16\"</p><p>\"Lunch with Sakko-chan, Shoko-chan, and Jiaying! #TonkotsuRamen. #Japanese. #Food. #Naruto.   ON 2014-10-02 00:43:29\"</p><p>\"\ub0b4\uac00 \uc81c.\uc77c. \uc88b\uc544\ud558\ub294 #\uc2a4\uc2dc !! #\uacc4\ub780\uc2a4\uc2dc my #favorite #\uba39\uc2a4\ud0c0\uadf8\ub7a8 \uc2a4\uc2dc\uc9d1\uac00\uba74 \ub2e8\ud488\uc73c\ub85c\ub77c\ub3c4 \uaf2d \uc2dc\ucf1c\uba39\uc5b4\uc57c\ud558\ub290\ub2c8\ub77c   ON 2014-10-01 08:32:01\"</p><p>\"\uc548\ub155 \ub0b4\uc0ac\ub791 #\uc2a4\uc2dc\ub864 \uc774\ub984\uc740 \uae30\uc5b5\uc774\uc548\ub098\ub294\uad70 #\uba39\uc2a4\ud0c0\uadf8\ub7a8 I love #sushi \ub610\uba39\uace0\uc2f6\ub2e4 \uc774\uc81c\ubcf4\ub2c8 \uc65c 10\ud30c\uc6b4\ub4dc\ub97c \ud55c\ub2ec\uc548\uc5d0 \ucc0d\uc5c8\ub294\uc9c0 \uc774\ud574\ub418\uad70   ON 2014-10-01 08:29:32\"</p><p>\"#\ubbf8\uc18c\ub77c\uba74 \ub77c\uba74\uc740 \uc2eb\uc5b4\ud574\ub3c4 #\uc77c\ubcf8\ub77c\uba58 \uc740 \uc2a4\ub989\ud760 \uc9f1\ub9db\uc788\uc5b4 \ud5e4\ud5e4   ON 2014-10-01 08:27:23\"</p><p>\"Taking my lunch #changeline   ON 2014-09-30 17:42:17\"</p><p>\"Dinner treat last night - for us studying all day long! And love #chicken teriyaki !!!\ud83d\ude0d //ok we did go to the same restaurant for two nights so what//   ON 2014-09-29 16:58:36\"</p><p>\"Sunday morning 10:30 @ Greens St. #\u89c5\u98df\u7ed3\u679c\u597d\u9910\u5385\u90fd\u6ca1\u5f00\u95e8   ON 2014-10-12 16:22:02\"</p><p>\"#CRAZY#Friday#night haha   ON 2014-10-12 16:13:33\"</p><p>\"Pictured: sushi rolls with gold flakes. Not pictured: sushi rolls on Bacardi fire. Thanks to: @missright_   ON 2014-10-12 05:52:19\"</p><p>\"Congratulations on the engagement!!! Look at the way Eun Soo looks at Anthony! She gave Anthony her noodles!!! I finally see what true love is! \ud83d\ude04 #truelove   ON 2014-10-12 05:30:49\"</p><p>\"#aka\u4fa6\u63a2#\u706b\u9505\u4e4b\u9a6c#\u7ec8\u4e8e\u6709\u5f20\u5408\u5f71#\u8fd8\u662f\u5077\u62cd#\u7ea6*\u8bf7\u52a0\u5fae\u4fe1#yangkaihao123   ON 2014-10-11 01:09:11\"</p><p>\"Sushi addict \ud83c\udf63   ON 2014-10-11 00:29:03\"</p><p>\"BEST BIG   ON 2014-10-10 23:37:07\"</p><p>\"Dinner with @jayhyvn \ud83c\udf63\ud83c\udf63\ud83c\udf63 #sushi   ON 2014-10-10 05:00:15\"</p><p>\"Sakanaya   ON 2014-10-10 00:44:14\"</p><p>\"Sushi and chicken teriyaki with @alyssacatz. #sushi #teriyaki #chicken #foodporn #yum #rice #delicious #food #bentobox   ON 2014-10-09 00:22:32\"</p><p>\"100614: splurged at #sakanaya with less than 24 hours till midterm deadline #worth #ramenlife #walletiscrying   ON 2014-10-07 00:04:56\"</p><p>\"First time at Sakanaya means I need to upload an instagram obviously \ud83d\udc4d\ud83c\udf63 #sushi   ON 2014-10-06 17:39:27\"</p><p>\"#mainquad   ON 2014-10-19 06:33:36\"</p><p>\"#altgeld#uiuc   ON 2014-10-19 06:31:42\"</p><p>\"Champaign - where dreams come true   ON 2014-10-19 03:34:37\"</p><p>\"\u8fd9\u4e24\u5929\u597dman\u5bf9\u81ea\u5df1\u7684\u6027\u522b\u4ea7\u751f\u6000\u7591\ud83d\ude28   ON 2014-10-19 00:07:42\"</p><p>\"Dinner Date with Aussie \ud83d\ude4f   ON 2014-10-18 01:58:41\"</p><p>\"#Kawaii   ON 2014-10-17 23:55:06\"</p><p>\"Just call me the cat whisperer. #meow #Kobe #kitty #cat #catwhisperer   ON 2014-10-17 22:57:49\"</p><p>\"Sushi and Sashimi <3   ON 2014-10-16 17:54:04\"</p><p>\"Spoon barcrawl with my favorites. #spoonfeed   ON 2014-10-16 04:02:25\"</p><p>\"Yummy! Miso ramen soup\ud83d\ude1b   ON 2014-10-14 18:50:18\"</p><p>\"Had lunch at a new place. It was nice to have husband time\ud83d\ude18   ON 2014-10-14 18:49:33\"</p><p>\"\u53ef\u7231\u7684alui\u6bcf\u5929\u90fd\u6709\u597d\u591a\u8ba9\u4eba\u7b11\u5230\u809a\u5b50\u75db\u7684\u52a8\u4f5c\ud83d\ude48\ud83d\ude01\ud83d\ude01   ON 2014-10-14 07:25:56\"</p><p>\"It was so good to be back #alumni   ON 2014-10-26 20:59:22\"</p><p>\"dragon ball illustration   ON 2014-10-26 05:35:24\"</p><p>\"best table service award goes to.....my dishwasher! i brought my staff meal to the back, ran some food, came back, and saw this set up for me LOL. love you cris!   ON 2014-10-26 04:49:03\"</p><p>\"En route to #kams then #whitehorse then #joes then #haus #legggooo #illinois #homecoming #captainmorgan   ON 2014-10-25 20:58:20\"</p><p>\"V pensive #happy6   ON 2014-10-25 02:20:37\"</p><p>\"Dinner d8 w/ bbygurl \ud83d\ude0b\ud83d\ude0d\ud83d\udc95   ON 2014-10-22 22:50:26\"</p><p>\"Sushi for lunch #noms #faflife   ON 2014-10-22 18:34:06\"</p><p>\"#\uc2a4\uc2dc\uc2a4\ud0c0\uadf8\ub7a8 \ub09c #\uc5f0\uc5b4 \uac00\uc870\uc544 #\uc5f0\uc5b4\uc0ac\ub791 #\uc2a4\uc2dc\ub294\uc5b8\uc81c\ub098\uc633\ub2e4 #\uc0dd\uc77c\ucd95\ud558\ud588\ub2e4 #\uba39\uc2a4\ud0c0\uadf8\ub7a8 #ilovesalmon #salmon #sushi   ON 2014-10-20 09:03:01\"</p><p>\"\u590f\u5929\u7ed3\u675f\u7684\u65f6\u5019\u4e0d\u60f3\u79cb\u5929\u6765\uff0c\u7b49\u79cb\u5929\u4e5f\u5feb\u8fc7\u53bb\u7684\u65f6\u5019\u5374\u820d\u4e0d\u5f97\u5b83\u8d70\u3002\u4eba\u4eec\u8fd8\u771f\u662f\u540e\u77e5\u540e\u89c9\uff0c\u975e\u8981\u7ed9\u773c\u524d\u7684\u7f8e\u4e3d\u4e00\u4e2a\u671f\u9650\u624d\u77e5\u9053\u6709\u591a\u73cd\u8d35\u3002   ON 2014-10-20 01:24:00\"</p><p>\"HAPPY BELATED BIRTHDAY RALPHIE!! \ud83c\udf89\ud83c\udf8a\ud83d\ude0a #uninvited #butstillshowedup #seeyouatgraingertonight   ON 2014-11-02 20:07:39\"</p><p>\"Just a couple of turnip farmers farming turnips #turnip \ud83d\udd04\ud83c\udd99   ON 2014-11-02 18:14:15\"</p><p>\"Found a good ramen place in #Chambana! Plus good scallop nigiri #lategram #instayum #foodie   ON 2014-11-02 13:37:05\"</p><p>\"Late night sushi love with (m)Anis.   ON 2014-11-01 06:07:15\"</p><p>\"Pink champagne halloween event!   ON 2014-11-01 05:50:08\"</p><p>\"Woop woop woop woop. @fankiat  Halloween costume as Zoidberg   ON 2014-11-01 05:45:39\"</p><p>\"#emochix   ON 2014-10-31 01:44:47\"</p><p>\"Sushi date w/ my favs @jscurts @mercedezgomez \ud83d\udd25\ud83c\udf74\ud83d\ude0b   ON 2014-10-31 00:32:43\"</p><p>\"SPIT IN THE HAT, PUT IT RIGHT BACK @ctarwid17   ON 2014-10-30 03:34:03\"</p><p>\"\ud83d\ude4f #Sakanaya \ud83d\ude4f   ON 2014-10-28 02:55:21\"</p><p>\"Back in Chambana checking out #Sakanaya   ON 2014-10-28 00:29:49\"</p><p>\"Happy birthday Sakanaya! Best servers ever!!!! #dontdisagree #sakanaya   ON 2014-11-09 08:40:53\"</p><p>\"#sakanaya#friedchickenwings#yummy   ON 2014-11-08 21:21:06\"</p><p>\"#Dinner with @angelyan92 to celebrate her job offer and acceptance at McGladrey! \ud83d\udc4f\ud83c\udf89#delicious #Japanese #food #sushi #noodles #yummy #uiuc #sakanaya   ON 2014-11-08 18:20:55\"</p><p>\"Skipping classes for #lunch. My priorities are so messed up.   ON 2014-11-07 19:26:20\"</p><p>\"Half price \ud83c\udf55!!! You know you're jealous!!!! \ud83d\ude04   ON 2014-11-06 04:51:31\"</p><p>\"it's a bit too cold outside for this, but that don't stop me from nothing. kikusui funaguchi on the rocks with cucumber. swirl before sipping. treat yoself. #kikusuifunaguchi   ON 2014-11-06 04:30:00\"</p><p>\"Sagdan sola yengec, yilan baligi ve somon :)   ON 2014-11-06 03:53:58\"</p><p>\"Shoutout to this birthday girl turning the big 2-0! I love you so much, I would never be able to truly express how fortunate I am to have met you in college and to have so many great memories with you - this is just the beginning and, believe you me, there is so much more to come. You are genuinely an outstanding person and you always motivate me to do my best in everything that I do. So here's to you, happy birthday Madz!!!! \ud83c\udf82\ud83c\udf89\ud83d\udc9b #birthdaycelebrations #kidisturning20 #futureroomie   ON 2014-11-04 04:39:10\"</p><p>\"#\uba39\uc2a4\ud0c0\uadf8\ub7a8 #\uc2a4\uc2dc #\ud68c #\uc77c\uc2dd #\ub9db\uc788\ub2e4 #\ub0e0\ub0e0 #sushi #dinner #\uba39\ubc29 #dailylife   ON 2014-11-15 05:05:07\"</p><p>\"Babe got his first job offer in Chicago!!!! \ud83c\udf89\ud83d\ude4a\ud83d\ude04 so he took me out to celebrate. I love you!! \u2764\ufe0f So proud \ud83d\ude2d\ud83d\ude2d\ud83d\ude2d (the sushi was to die for)   ON 2014-11-15 04:46:39\"</p><p>\"Throw back to the time with my girl #pokerface @itstimeforip   ON 2014-11-15 03:21:46\"</p><p>\"we lurv sushi. \ud83d\udc95\ud83c\udf63 #sushi #dinner #sakanaya #sashimi #nom   ON 2014-11-15 01:46:30\"</p><p>\"#\uc778\ub3c4 #\uce74\ub808 #\uba39\uc2a4\ud0c0\uadf8\ub7a8 #\ub0e0\ub0e0 #\ub9db\uc788\ub2e4\uadf8\ub7a8 #curry #dinner   ON 2014-11-14 02:08:11\"</p><p>\"#Chinese #food #noodles on a cold, snowy, day in #Champaign #illinois   ON 2014-11-13 18:39:14\"</p><p>\"#pressedjuicery#onedaycleanse#juicing101#3rdtime#\u8ba9\u6211\u7626#\u5e0c\u671b\u4e0d\u8981\u51bb\u6b7b   ON 2014-11-12 18:40:50\"</p><p>\"\u6211\u8bf4\u90a3\u8fd8\u662f\u8ba9\u4f60\u8fc7\u4e00\u6b21\u5427 \u4ed6\u638f\u51fa\u624b\u673a\u6307\u7740\u65f6\u95f4\u8bf4\u4f60\u770b\u6ca1\u6709\u7528\u4e86\u5df2\u7ecf\u8fc7\u4e8612\u70b9\u4e86 \u6211\u7279\u610f\u8fc7\u4e86\u624d\u8ddf\u4f60\u8bf4\u7684\u263a\ufe0f   ON 2014-11-12 06:11:40\"</p><p>\"alui\u8bf4\u8fd9\u662f\u4ed6\u957f\u8fd9\u4e48\u5927\u7b2c\u4e00\u6b21\u4e0d\u8fc7\u5149\u68cd\u8282\u2764\ufe0f   ON 2014-11-12 06:10:02\"</p><p>\"#Sakanaya \uc314\ub9ac\uae30 1\ubd84\ub9cc\uc5d0 \ud074\ub9ac\uc5b4 \ud83d\udc4d\ud83d\udc4d\ud83d\udc4d\ud83d\udc4d #\uba39\ubc29 #\ube5a\uccad\uc0b0 #\uba39\uc2a4\ud0c0\uadf8\ub7a8 Thanks to. @kuntheawesome   ON 2014-11-11 04:55:53\"</p><p>\"I had some yummy yummy lunchtime sushi from #Sakanaya ! Better than Ko Fusion IMO   ON 2014-11-10 19:47:21\"</p><p>\"@hesslau15 moves out of Charleston today. Been a long ride. This is us just killing some sushi   ON 2014-11-10 13:46:24\"</p><p>\"I have to post a pic of this sushi we had tonight for @alyssadijooo day of birth. It was probably one if the best things I've ever eaten and I like to eat... #sushi #sundayfunday #birthday #yum #foodporn #everyoneshouldeatthis   ON 2014-11-10 07:04:06\"</p><p>\"#SushiSnob not everything is pictured! Dad treated us to sushi even though he did not attend \ud83c\udf63   ON 2014-11-10 05:35:01\"</p><p>\"Birthday soooosh \ud83c\udf63   ON 2014-11-10 05:20:35\"</p><p>\"\ud83c\udf55 > fuckboys   ON 2014-11-21 19:02:22\"</p><p>\"Much needed catch up session with the coolest bunch. We're doing the whole secret santa thing after thanksgiving yay! \ud83d\ude46 it was soooo wonderful to spend some time with you girls \u2764\ufe0f   ON 2014-11-19 00:34:48\"</p><p>\"Salmon Platter \ud83d\udc20\ud83d\ude0d #sushi #foodporn   ON 2014-11-18 23:17:08\"</p><p>\"\u966a\u6211\u590d\u4e60 \u4e00\u76f4\u8bf4\u4e0d\u56f0\u5374\u53c8\u4e0d\u5c0f\u5fc3\u7761\u7740\u7684\u56fe\u56fe   ON 2014-11-17 10:08:26\"</p><p>\"#thanksgivin #eatwithsweetie #\u4f60\u8981\u77e5\u9053\u6211\u662f\u7231\u4f60\u7684\u2026   ON 2014-11-29 03:02:26\"</p><p>\"Should I get this should I get this   ON 2014-11-28 20:04:57\"</p><p>\"\u5b66\u751f\u4e2d\u6700\u597d\u7684\u53a8\u5b50\uff0c\u53a8\u5b50\u4e2d\u6700\u597d\u7684\u6444\u50cf\u5e08\uff01-_-#\u81ea\u4ece\u59b9\u5b50\u526a\u4e86\u77ed\u53d1\uff0c\u89c1\u8bc6\u5c31\u957f\u4e86\uff01\u7f8e\u7f8e\u5730\u6293\u62cd\uff01   ON 2014-11-28 18:15:57\"</p><p>\"Spider and \"playgirl\" roll   ON 2014-12-07 20:55:59\"</p><p>\"anniversary gift\ud83d\udc9d surprise\ud83c\udf89   ON 2014-12-06 03:06:48\"</p><p>\"June and her friends.. I can't wait till 2015 to come so that you will stop acting cute \ud83d\ude00 #june#nemo#sullivan#june#cutie   ON 2014-12-03 06:40:08\"</p><p>\"Chicken wings...\ud83d\udc14\ud83d\udc14\ud83d\udc14 #\uc57c\uc2dd #\uce58\ud0a8 #\ub9db\uc788\ub2e4 #\uba39\uc2a4\ud0c0\uadf8\ub7a8 #latenight #craving #nomnomnom #sakanaya   ON 2014-12-03 06:13:19\"</p><p>\"\uc57c\uc2ec\ud55c\ubc24\uc5d0 \ud68c\uc624\ub9ac \ud68c\uc624\ub9ac #\ud68c\uc624\ub9ac \ud83d\ude3b\ud83d\ude38\ud83d\ude3d #sakanaya #latenight #tuesdaynight #mymaingirls #xoxo #\uc57c\uc2dd #\ud68c\uc624\ub9ac\uac10\uc790 #\uba39\uc2a4\ud0c0\uadf8\ub7a8   ON 2014-12-03 06:06:57\"</p><p>\"Last time before finals \ud83d\ude22   ON 2014-12-02 04:10:37\"</p><p>\"happy one year to this babe. I love you! \ud83d\ude18\ud83d\ude18\ud83d\ude18 #mygirlfriendisagoddess #yourgirlfriendisahandmaiden   ON 2014-12-01 18:54:45\"</p><p>\"soupy girl KP enters her roaring 20's hbd baby~   ON 2014-12-01 17:49:08\"</p><p>\"#sushi with #goldflakes is the fanciest sushi   ON 2014-12-14 03:44:13\"</p><p>\"Just met this $exy lebane$e movin like a dancer \ud83d\udc83\ud83d\ude0d\ud83c\udf63   ON 2014-12-14 01:22:16\"</p><p>\"Tuna, rice, and everything nice \ud83d\ude0b   ON 2014-12-14 00:09:41\"</p><p>\"#Uni #\u9cd7 #don #\u548c\u98ce #\u6599\u7406   ON 2014-12-13 03:58:47\"</p><p>\"\u591a\u5403 1 \u4e2a\u4f60\uff01\u6211\u53ef\u4ee5\u591a\u5199 20 \u7bc7 paper\uff0c\u591a\u6253 20 \u4e2acold call\uff0c\u591a\u505a 20 \u9875 keynote\u3002#\u6700\u7231WilisTower   ON 2014-12-12 05:39:09\"</p><p>\"Kenjel nyakan kanggoang ;)   ON 2014-12-12 05:00:30\"</p><p>\"I love #sushi #salmon #tuna #\uc2a4\uc2dc #\uba39\uc2a4\ud0c0\uadf8\ub7a8 \ud83d\ude0b   ON 2014-12-12 00:37:00\"</p><p>\"A burger joint 65 million years in the making #uiuc   ON 2014-12-10 18:30:45\"</p><p>\"Such an Art: Willis Tower. Looks so interesting #Sushi #Art   ON 2014-12-09 08:15:18\"</p><p>\"\ub098\ub3c4 \ub4dc\ub514\uc5b4 willis tower!! #\ub0e0\ub0e0 #\uba39\uc2a4\ud0c0\uadf8\ub7a8 #\uc2a4\uc2dc #\uaca8\uc6b8\ubc29\ud559 #\uc2dc\uc791 #\ub180\uc790   ON 2014-12-19 07:25:47\"</p><p>\"\u9999\u69df\u6700\u540e\u4e00\u9910\u2026\u7b80\u76f4\u95f2\u4e86\u4e24\u5929\uff01\uff01\u660e\u665a\u89c1\u5230\u7238\u5988\u5566\uff01#night   ON 2014-12-19 06:29:45\"</p><p>\"my savior to hell/finals week; celebrating the end to my last fall semester ever   ON 2014-12-18 01:01:21\"</p><p>\"First time at Sakanaya with @ashkips   ON 2014-12-16 23:30:40\"</p><p>\"My fave.   ON 2014-12-15 02:18:51\"</p><p>\"Spicy Tonkotsu Ramen from Sakanaya in Champaign, Illinois! Not the best ramen I've ever had, would give it a 5/10, but it satisfied my ramen craving and curiosity. It was spicy enough after I ordered a bit more spicy paste, but the egg was disappointing ): It tasted like a regular boiled egg I make at home! Soda sad. Also, the white onions threw me off a bit.. Anyway, overall it was a very very average bowl. #sadelorie #eloriesramenhunt #ramenhunt #ramen #spicytonkotsu #sakanaya #champaign #peepingnarutosocute   ON 2014-12-27 19:27:25\"</p><p>\"So much yes right now. \ub9db\uc788\ub2e4! \ud83d\ude0d\ud83c\udf63   ON 2014-12-27 01:56:44\"</p><p>\"Celebrating the end of the semester with some awesome sushi. #uiuc #sakanaya   ON 2014-12-22 04:19:22\"</p><p>\"drive home was beautiful   ON 2015-01-02 17:32:59\"</p><p>\"#\uba39\uc2a4\ud0c0\uadf8\ub7a8 #\uba39\ubc29 #\ub9db\uc2a4\ud0c0\uadf8\ub7a8 #\ub0e0\ub0e0 #\ub9db\uc788\uc5b4 #\uc9f1 #\uc800\ub141 #\uc7ac\ubc0c\ub2e4 #\uc2e0\ub0a8 #\uc2a4\uc2dc #\ubbf8\uad6d #yum #foodporn\n",
        "\u6211\u4e5fWillis tower\ud83d\ude1c\ud83d\ude1c~~\u54c8\u54c8\uff01   ON 2015-01-08 02:54:53\"</p>"
       ],
       "metadata": {},
       "output_type": "pyout",
       "prompt_number": 41,
       "text": [
        "<IPython.core.display.HTML at 0x10ed64400>"
       ]
      }
     ],
     "prompt_number": 41
    },
    {
     "cell_type": "code",
     "collapsed": false,
     "input": [],
     "language": "python",
     "metadata": {},
     "outputs": []
    }
   ],
   "metadata": {}
  }
 ]
}