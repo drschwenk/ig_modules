{
 "metadata": {
  "name": "",
  "signature": "sha256:424882c245395960429ec86d015d02ac4ef3548a3b4d95f0bc7f5b2721b356b4"
 },
 "nbformat": 3,
 "nbformat_minor": 0,
 "worksheets": [
  {
   "cells": [
    {
     "cell_type": "code",
     "collapsed": false,
     "input": [
      "from instagram.client import InstagramAPI\n",
      "from IPython.core.display import HTML\n",
      "from i_tokes import *"
     ],
     "language": "python",
     "metadata": {},
     "outputs": [],
     "prompt_number": 2
    },
    {
     "cell_type": "code",
     "collapsed": false,
     "input": [
      "api = InstagramAPI(client_id=CLIENT_ID, client_secret=CLIENT_SECRET)"
     ],
     "language": "python",
     "metadata": {},
     "outputs": [],
     "prompt_number": 3
    },
    {
     "cell_type": "code",
     "collapsed": false,
     "input": [
      "content = \"<h2>Location Recent Media</h2>\"\n",
      "try:\n",
      "    media_search = api.media_search(lat=\"40.113818215462999\",lng=\"-88.207689252733005\",distance=50)    \n",
      "    photos = []\n",
      "    for media in media_search:\n",
      "        photos.append('<img src=\"%s\"/>' % media.get_standard_resolution_url())\n",
      "    content += ''.join(photos)\n",
      "except Exception as e:\n",
      "    print(e)  "
     ],
     "language": "python",
     "metadata": {},
     "outputs": [],
     "prompt_number": 12
    },
    {
     "cell_type": "code",
     "collapsed": false,
     "input": [
      "# HTML(content)  "
     ],
     "language": "python",
     "metadata": {},
     "outputs": [],
     "prompt_number": 15
    },
    {
     "cell_type": "code",
     "collapsed": false,
     "input": [
      "# latitude = 33.669716200000003\n",
      "# longitude = -112.23904450000001\n",
      "# try:\n",
      "#     media_search = api.media_search(lat=latitude,lng=longitude,distance=50)    \n",
      "#     photos = []\n",
      "#     for media in media_search:\n",
      "#         print(media.caption.text)\n",
      "# except Exception as e:\n",
      "#     print(e)  \n",
      "    "
     ],
     "language": "python",
     "metadata": {},
     "outputs": [],
     "prompt_number": 18
    },
    {
     "cell_type": "code",
     "collapsed": false,
     "input": [
      "latitude = 40.110112999999998\n",
      "longitude = -88.233217999999994\n",
      "# latitude = 40.113818215462999\n",
      "# longitude = -88.207689252733005\n",
      "mint=1407716699\n",
      "maxt=1420680255\n",
      "\n",
      "media_result = api.media_search(lat=latitude,lng=longitude,min_timestamp= mint ,max_timestamp=maxt,distance=30)    "
     ],
     "language": "python",
     "metadata": {},
     "outputs": [],
     "prompt_number": 65
    },
    {
     "cell_type": "code",
     "collapsed": false,
     "input": [
      "for media in media_result:\n",
      "    try:\n",
      "        print((media.caption.text))\n",
      "    except Exception as e:\n",
      "        print(e)"
     ],
     "language": "python",
     "metadata": {},
     "outputs": [
      {
       "output_type": "stream",
       "stream": "stdout",
       "text": [
        "drive home was beautiful\n",
        "Spicy Tonkotsu Ramen from Sakanaya in Champaign, Illinois! Not the best ramen I've ever had, would give it a 5/10, but it satisfied my ramen craving and curiosity. It was spicy enough after I ordered a bit more spicy paste, but the egg was disappointing ): It tasted like a regular boiled egg I make at home! Soda sad. Also, the white onions threw me off a bit.. Anyway, overall it was a very very average bowl. #sadelorie #eloriesramenhunt #ramenhunt #ramen #spicytonkotsu #sakanaya #champaign #peepingnarutosocute\n",
        "So much yes right now. \ub9db\uc788\ub2e4! \ud83d\ude0d\ud83c\udf63\n",
        "Celebrating the end of the semester with some awesome sushi. #uiuc #sakanaya\n",
        "'NoneType' object has no attribute 'text'\n",
        "'NoneType' object has no attribute 'text'\n",
        "\ub098\ub3c4 \ub4dc\ub514\uc5b4 willis tower!! #\ub0e0\ub0e0 #\uba39\uc2a4\ud0c0\uadf8\ub7a8 #\uc2a4\uc2dc #\uaca8\uc6b8\ubc29\ud559 #\uc2dc\uc791 #\ub180\uc790\n",
        "\u9999\u69df\u6700\u540e\u4e00\u9910\u2026\u7b80\u76f4\u95f2\u4e86\u4e24\u5929\uff01\uff01\u660e\u665a\u89c1\u5230\u7238\u5988\u5566\uff01#night\n",
        "my savior to hell/finals week; celebrating the end to my last fall semester ever\n",
        "First time at Sakanaya with @ashkips\n",
        "My fave.\n",
        "#sushi with #goldflakes is the fanciest sushi\n",
        "Just met this $exy lebane$e movin like a dancer \ud83d\udc83\ud83d\ude0d\ud83c\udf63\n",
        "Tuna, rice, and everything nice \ud83d\ude0b\n",
        "#Uni #\u9cd7 #don #\u548c\u98ce #\u6599\u7406\n"
       ]
      }
     ],
     "prompt_number": 66
    },
    {
     "cell_type": "code",
     "collapsed": false,
     "input": [
      "content = \"<h2>Location Recent Media</h2>\"\n",
      "photos = []\n",
      "for media in media_result:\n",
      "    photos.append('<img src=\"%s\"/>' % media.get_standard_resolution_url())\n",
      "    try:\n",
      "        photos += '<p>\"%s\"</p>' % media.caption.text\n",
      "    except Exception as e: \n",
      "        print(e)\n",
      "content += ''.join(photos)\n",
      "\n",
      "HTML(content)  "
     ],
     "language": "python",
     "metadata": {},
     "outputs": [
      {
       "output_type": "stream",
       "stream": "stdout",
       "text": [
        "'NoneType' object has no attribute 'text'\n",
        "'NoneType' object has no attribute 'text'\n"
       ]
      },
      {
       "html": [
        "<h2>Location Recent Media</h2><img src=\"http://scontent.cdninstagram.com/hphotos-xfa1/t51.2885-15/e15/10865261_1380013245633867_394488191_n.jpg\"/><p>\"drive home was beautiful\"</p><img src=\"http://scontent.cdninstagram.com/hphotos-xaf1/t51.2885-15/e15/10865253_1597454603807592_709771344_n.jpg\"/><p>\"Spicy Tonkotsu Ramen from Sakanaya in Champaign, Illinois! Not the best ramen I've ever had, would give it a 5/10, but it satisfied my ramen craving and curiosity. It was spicy enough after I ordered a bit more spicy paste, but the egg was disappointing ): It tasted like a regular boiled egg I make at home! Soda sad. Also, the white onions threw me off a bit.. Anyway, overall it was a very very average bowl. #sadelorie #eloriesramenhunt #ramenhunt #ramen #spicytonkotsu #sakanaya #champaign #peepingnarutosocute\"</p><img src=\"http://scontent.cdninstagram.com/hphotos-xaf1/t51.2885-15/e15/10838514_591695840964259_2087669940_n.jpg\"/><p>\"So much yes right now. \ub9db\uc788\ub2e4! \ud83d\ude0d\ud83c\udf63\"</p><img src=\"http://scontent.cdninstagram.com/hphotos-xfa1/t51.2885-15/e15/10844297_993919587289378_1779164389_n.jpg\"/><p>\"Celebrating the end of the semester with some awesome sushi. #uiuc #sakanaya\"</p><img src=\"http://scontent.cdninstagram.com/hphotos-xaf1/t51.2885-15/e15/915609_477798732358191_938297509_n.jpg\"/><img src=\"http://scontent.cdninstagram.com/hphotos-xfa1/t51.2885-15/e15/10838654_901895439850804_1376547359_n.jpg\"/><img src=\"http://scontent.cdninstagram.com/hphotos-xfa1/t50.2886-16/10877294_402658829900017_1616272300_n.mp4\"/><p>\"\ub098\ub3c4 \ub4dc\ub514\uc5b4 willis tower!! #\ub0e0\ub0e0 #\uba39\uc2a4\ud0c0\uadf8\ub7a8 #\uc2a4\uc2dc #\uaca8\uc6b8\ubc29\ud559 #\uc2dc\uc791 #\ub180\uc790\"</p><img src=\"http://scontent.cdninstagram.com/hphotos-xaf1/t50.2886-16/10877283_849022651786967_1347197759_n.mp4\"/><p>\"\u9999\u69df\u6700\u540e\u4e00\u9910\u2026\u7b80\u76f4\u95f2\u4e86\u4e24\u5929\uff01\uff01\u660e\u665a\u89c1\u5230\u7238\u5988\u5566\uff01#night\"</p><img src=\"http://scontent.cdninstagram.com/hphotos-xaf1/t51.2885-15/e15/10852774_784261778322872_113859244_n.jpg\"/><p>\"One last final for Econ. Two days left for home.\"</p><img src=\"http://scontent.cdninstagram.com/hphotos-xaf1/t51.2885-15/e15/10852758_1580340078866964_1705565181_n.jpg\"/><p>\"my savior to hell/finals week; celebrating the end to my last fall semester ever\"</p><img src=\"http://scontent.cdninstagram.com/hphotos-xfa1/t51.2885-15/e15/10865183_367360560108426_1212006041_n.jpg\"/><p>\"First time at Sakanaya with @ashkips\"</p><img src=\"http://scontent.cdninstagram.com/hphotos-xaf1/t51.2885-15/e15/10832043_689791231136543_2119593883_n.jpg\"/><p>\"My fave.\"</p><img src=\"http://scontent.cdninstagram.com/hphotos-xfa1/t51.2885-15/e15/10831736_359993787512535_981542379_n.jpg\"/><p>\"#sushi with #goldflakes is the fanciest sushi\"</p><img src=\"http://scontent.cdninstagram.com/hphotos-xfa1/t51.2885-15/e15/10844102_812090765496619_1679003611_n.jpg\"/><p>\"Just met this $exy lebane$e movin like a dancer \ud83d\udc83\ud83d\ude0d\ud83c\udf63\"</p><img src=\"http://scontent.cdninstagram.com/hphotos-xap1/t51.2885-15/e15/923748_1574389486124127_353776721_n.jpg\"/><p>\"Tuna, rice, and everything nice \ud83d\ude0b\"</p><img src=\"http://scontent.cdninstagram.com/hphotos-xpa1/t51.2885-15/e15/924101_572721322862900_653834492_n.jpg\"/><p>\"#Uni #\u9cd7 #don #\u548c\u98ce #\u6599\u7406\"</p>"
       ],
       "metadata": {},
       "output_type": "pyout",
       "prompt_number": 135,
       "text": [
        "<IPython.core.display.HTML at 0x103261d30>"
       ]
      }
     ],
     "prompt_number": 135
    },
    {
     "cell_type": "code",
     "collapsed": false,
     "input": [
      "def media_search(): \n",
      "    content = \"<h2>Media Search</h2>\"\n",
      "    try:\n",
      "        api = InstagramAPI(client_id=CLIENT_ID, client_secret=CLIENT_SECRET)        \n",
      "        media_result = api.media_search(lat=latitude,lng=longitude,min_timestamp= mint ,max_timestamp=maxt,distance=30)            \n",
      "        photos = []\n",
      "        for media in media_search:\n",
      "#             photos.append('<img src=\"%s\"/>' % media.get_standard_resolution_url())\n",
      "            try:\n",
      "                photos += '<p>\"%s   ON %s\"</p>' % (media.caption.text,media.caption.created_at)\n",
      "            except Exception as e: \n",
      "                pass\n",
      "        content += ''.join(photos)\n",
      "    except:\n",
      "        pass             \n",
      "    print(\"<br/>Remaining API Calls = %s/%s\" % (api.x_ratelimit_remaining,api.x_ratelimit))\n",
      "    return content"
     ],
     "language": "python",
     "metadata": {},
     "outputs": [],
     "prompt_number": 33
    },
    {
     "cell_type": "code",
     "collapsed": false,
     "input": [
      "media_result = pagi_search()\n",
      "HTML(media_result)  "
     ],
     "language": "python",
     "metadata": {},
     "outputs": [
      {
       "output_type": "stream",
       "stream": "stdout",
       "text": [
        "<br/>Remaining API Calls = 4988/5000\n"
       ]
      },
      {
       "html": [
        "<h2>Media Search</h2>"
       ],
       "metadata": {},
       "output_type": "pyout",
       "prompt_number": 36,
       "text": [
        "<IPython.core.display.HTML at 0x1043b05f8>"
       ]
      }
     ],
     "prompt_number": 36
    },
    {
     "cell_type": "code",
     "collapsed": false,
     "input": [
      "def user_follows(): \n",
      "    content = \"<h2>User Follows</h2>\"\n",
      "    try:\n",
      "        api = InstagramAPI(client_id=CLIENT_ID, client_secret=CLIENT_SECRET)        \n",
      "        # 25025320 is http://instagram.com/instagram\n",
      "        user_follows, next = api.media_search(lat=latitude,lng=longitude,distance=30)\n",
      "        users = []\n",
      "#         for user in user_follows:\n",
      "#             users.append('<li><%s</li>' % (user.username))\n",
      "        while next:\n",
      "            user_follows, next = api.user_follows(with_next_url=next)\n",
      "            for user in user_follows:\n",
      "                users.append('<li>>%s</li>' % (user.caption.text))\n",
      "        content += ''.join(users)\n",
      "    except Exception as e:\n",
      "        print(e)              \n",
      "    print(\"<br/>Remaining API Calls = %s/%s\" % (api.x_ratelimit_remaining,api.x_ratelimit))\n",
      "    return content"
     ],
     "language": "python",
     "metadata": {},
     "outputs": [],
     "prompt_number": 55
    },
    {
     "cell_type": "code",
     "collapsed": false,
     "input": [
      "def media_search2(latitude, longitude, min_time, max_time): \n",
      "    content = ''\n",
      "    try:\n",
      "        api = InstagramAPI(client_id=CLIENT_ID, client_secret=CLIENT_SECRET)        \n",
      "        media_result = api.media_search(lat=latitude,lng=longitude ,min_timestamp= min_time ,max_timestamp=max_time,distance=30)            \n",
      "        photos = []\n",
      "        for media in media_result:\n",
      "#             photos.append('<img src=\"%s\"/>' % media.get_standard_resolution_url())\n",
      "            try:\n",
      "#                 photos += '<p>\"%s   ON %s\"</p>' % (media.caption.text,media.caption.created_at)\n",
      "                photos += '<p> %s\"</p>' % (media.caption.created_at)\n",
      "\n",
      "            except Exception as e: \n",
      "                pass\n",
      "        content += ''.join(photos)\n",
      "    except:\n",
      "        pass             \n",
      "    print(\"<br/>Remaining API Calls = %s/%s\" % (api.x_ratelimit_remaining,api.x_ratelimit))\n",
      "    return content"
     ],
     "language": "python",
     "metadata": {},
     "outputs": [],
     "prompt_number": 35
    },
    {
     "cell_type": "code",
     "collapsed": false,
     "input": [
      "lati = 40.110112999999998\n",
      "longi = -88.233217999999994\n",
      "mint=1407716699\n",
      "maxt=1420680255\n",
      "sds = 3600 * 24 * 7 \n",
      "result=''\n",
      "\n",
      "for i in range(mint,maxt,sds):\n",
      "    result += media_search2(lati, longi, i, i+sds)\n",
      "    print( i, i+sds)\n",
      "\n",
      "HTML(result)  "
     ],
     "language": "python",
     "metadata": {},
     "outputs": [
      {
       "output_type": "stream",
       "stream": "stdout",
       "text": [
        "<br/>Remaining API Calls = 4813/5000\n",
        "1407716699 1408321499\n",
        "<br/>Remaining API Calls = 4812/5000"
       ]
      },
      {
       "output_type": "stream",
       "stream": "stdout",
       "text": [
        "\n",
        "1408321499 1408926299\n",
        "<br/>Remaining API Calls = 4811/5000"
       ]
      },
      {
       "output_type": "stream",
       "stream": "stdout",
       "text": [
        "\n",
        "1408926299 1409531099\n",
        "<br/>Remaining API Calls = 4810/5000"
       ]
      },
      {
       "output_type": "stream",
       "stream": "stdout",
       "text": [
        "\n",
        "1409531099 1410135899\n",
        "<br/>Remaining API Calls = 4809/5000"
       ]
      },
      {
       "output_type": "stream",
       "stream": "stdout",
       "text": [
        "\n",
        "1410135899 1410740699\n",
        "<br/>Remaining API Calls = 4808/5000"
       ]
      },
      {
       "output_type": "stream",
       "stream": "stdout",
       "text": [
        "\n",
        "1410740699 1411345499\n",
        "<br/>Remaining API Calls = 4807/5000"
       ]
      },
      {
       "output_type": "stream",
       "stream": "stdout",
       "text": [
        "\n",
        "1411345499 1411950299\n",
        "<br/>Remaining API Calls = 4806/5000"
       ]
      },
      {
       "output_type": "stream",
       "stream": "stdout",
       "text": [
        "\n",
        "1411950299 1412555099\n",
        "<br/>Remaining API Calls = 4805/5000"
       ]
      },
      {
       "output_type": "stream",
       "stream": "stdout",
       "text": [
        "\n",
        "1412555099 1413159899\n",
        "<br/>Remaining API Calls = 4804/5000"
       ]
      },
      {
       "output_type": "stream",
       "stream": "stdout",
       "text": [
        "\n",
        "1413159899 1413764699\n",
        "<br/>Remaining API Calls = 4803/5000"
       ]
      },
      {
       "output_type": "stream",
       "stream": "stdout",
       "text": [
        "\n",
        "1413764699 1414369499\n",
        "<br/>Remaining API Calls = 4802/5000"
       ]
      },
      {
       "output_type": "stream",
       "stream": "stdout",
       "text": [
        "\n",
        "1414369499 1414974299\n",
        "<br/>Remaining API Calls = 4801/5000"
       ]
      },
      {
       "output_type": "stream",
       "stream": "stdout",
       "text": [
        "\n",
        "1414974299 1415579099\n",
        "<br/>Remaining API Calls = 4800/5000"
       ]
      },
      {
       "output_type": "stream",
       "stream": "stdout",
       "text": [
        "\n",
        "1415579099 1416183899\n",
        "<br/>Remaining API Calls = 4799/5000"
       ]
      },
      {
       "output_type": "stream",
       "stream": "stdout",
       "text": [
        "\n",
        "1416183899 1416788699\n",
        "<br/>Remaining API Calls = 4798/5000"
       ]
      },
      {
       "output_type": "stream",
       "stream": "stdout",
       "text": [
        "\n",
        "1416788699 1417393499\n",
        "<br/>Remaining API Calls = 4797/5000"
       ]
      },
      {
       "output_type": "stream",
       "stream": "stdout",
       "text": [
        "\n",
        "1417393499 1417998299\n",
        "<br/>Remaining API Calls = 4796/5000"
       ]
      },
      {
       "output_type": "stream",
       "stream": "stdout",
       "text": [
        "\n",
        "1417998299 1418603099\n",
        "<br/>Remaining API Calls = 4795/5000"
       ]
      },
      {
       "output_type": "stream",
       "stream": "stdout",
       "text": [
        "\n",
        "1418603099 1419207899\n",
        "<br/>Remaining API Calls = 4794/5000"
       ]
      },
      {
       "output_type": "stream",
       "stream": "stdout",
       "text": [
        "\n",
        "1419207899 1419812699\n",
        "<br/>Remaining API Calls = 4793/5000"
       ]
      },
      {
       "output_type": "stream",
       "stream": "stdout",
       "text": [
        "\n",
        "1419812699 1420417499\n",
        "<br/>Remaining API Calls = 4792/5000"
       ]
      },
      {
       "output_type": "stream",
       "stream": "stdout",
       "text": [
        "\n",
        "1420417499 1421022299\n"
       ]
      },
      {
       "html": [
        "<p> 2014-08-17 00:07:59\"</p><p> 2014-08-13 23:38:55\"</p><p> 2014-08-13 22:29:12\"</p><p> 2014-08-24 15:11:03\"</p><p> 2014-08-23 01:35:57\"</p><p> 2014-08-22 23:01:10\"</p><p> 2014-08-22 13:56:47\"</p><p> 2014-08-20 21:32:18\"</p><p> 2014-09-01 00:17:03\"</p><p> 2014-08-30 02:22:55\"</p><p> 2014-08-29 21:44:04\"</p><p> 2014-08-29 04:44:05\"</p><p> 2014-08-28 03:54:58\"</p><p> 2014-08-27 00:55:47\"</p><p> 2014-08-26 22:36:07\"</p><p> 2014-08-25 02:40:08\"</p><p> 2014-08-25 01:19:55\"</p><p> 2014-09-07 04:19:19\"</p><p> 2014-09-06 17:38:04\"</p><p> 2014-09-03 23:07:03\"</p><p> 2014-09-03 14:28:19\"</p><p> 2014-09-03 04:18:15\"</p><p> 2014-09-03 02:58:07\"</p><p> 2014-09-03 00:23:03\"</p><p> 2014-09-02 02:26:22\"</p><p> 2014-09-01 23:33:55\"</p><p> 2014-09-14 00:33:48\"</p><p> 2014-09-13 02:37:45\"</p><p> 2014-09-13 01:25:38\"</p><p> 2014-09-09 06:04:34\"</p><p> 2014-09-08 22:09:19\"</p><p> 2014-09-21 06:33:49\"</p><p> 2014-09-21 02:47:45\"</p><p> 2014-09-21 02:47:11\"</p><p> 2014-09-21 02:46:42\"</p><p> 2014-09-20 21:29:36\"</p><p> 2014-09-20 05:45:03\"</p><p> 2014-09-20 03:12:38\"</p><p> 2014-09-19 23:57:24\"</p><p> 2014-09-17 02:20:19\"</p><p> 2014-09-16 04:06:15\"</p><p> 2014-09-27 03:42:08\"</p><p> 2014-09-26 23:28:45\"</p><p> 2014-09-26 22:18:44\"</p><p> 2014-09-26 02:10:27\"</p><p> 2014-09-25 19:32:51\"</p><p> 2014-09-23 02:24:29\"</p><p> 2014-09-22 20:30:36\"</p><p> 2014-10-05 01:29:36\"</p><p> 2014-10-04 03:00:56\"</p><p> 2014-10-03 20:17:16\"</p><p> 2014-10-02 00:43:29\"</p><p> 2014-10-01 08:32:01\"</p><p> 2014-10-01 08:29:32\"</p><p> 2014-10-01 08:27:23\"</p><p> 2014-09-30 17:42:17\"</p><p> 2014-09-29 16:58:36\"</p><p> 2014-10-12 16:22:02\"</p><p> 2014-10-12 16:13:33\"</p><p> 2014-10-12 05:52:19\"</p><p> 2014-10-12 05:30:49\"</p><p> 2014-10-11 01:09:11\"</p><p> 2014-10-11 00:29:03\"</p><p> 2014-10-10 23:37:07\"</p><p> 2014-10-10 05:00:15\"</p><p> 2014-10-10 00:44:14\"</p><p> 2014-10-09 00:22:32\"</p><p> 2014-10-07 00:04:56\"</p><p> 2014-10-06 17:39:27\"</p><p> 2014-10-19 06:33:36\"</p><p> 2014-10-19 06:31:42\"</p><p> 2014-10-19 03:34:37\"</p><p> 2014-10-19 00:07:42\"</p><p> 2014-10-18 01:58:41\"</p><p> 2014-10-17 23:55:06\"</p><p> 2014-10-17 22:57:49\"</p><p> 2014-10-16 17:54:04\"</p><p> 2014-10-16 04:02:25\"</p><p> 2014-10-14 18:50:18\"</p><p> 2014-10-14 18:49:33\"</p><p> 2014-10-14 07:25:56\"</p><p> 2014-10-26 20:59:22\"</p><p> 2014-10-26 05:35:24\"</p><p> 2014-10-26 04:49:03\"</p><p> 2014-10-25 20:58:20\"</p><p> 2014-10-25 02:20:37\"</p><p> 2014-10-22 22:50:26\"</p><p> 2014-10-22 18:34:06\"</p><p> 2014-10-20 09:03:01\"</p><p> 2014-10-20 01:24:00\"</p><p> 2014-11-02 20:07:39\"</p><p> 2014-11-02 18:14:15\"</p><p> 2014-11-02 13:37:05\"</p><p> 2014-11-01 06:07:15\"</p><p> 2014-11-01 05:50:08\"</p><p> 2014-11-01 05:45:39\"</p><p> 2014-10-31 01:44:47\"</p><p> 2014-10-31 00:32:43\"</p><p> 2014-10-30 03:34:03\"</p><p> 2014-10-28 02:55:21\"</p><p> 2014-10-28 00:29:49\"</p><p> 2014-11-09 08:40:53\"</p><p> 2014-11-08 21:21:06\"</p><p> 2014-11-08 18:20:55\"</p><p> 2014-11-07 19:26:20\"</p><p> 2014-11-06 04:51:31\"</p><p> 2014-11-06 04:30:00\"</p><p> 2014-11-06 03:53:58\"</p><p> 2014-11-04 04:39:10\"</p><p> 2014-11-15 05:05:07\"</p><p> 2014-11-15 04:46:39\"</p><p> 2014-11-15 03:21:46\"</p><p> 2014-11-15 01:46:30\"</p><p> 2014-11-14 02:08:11\"</p><p> 2014-11-13 18:39:14\"</p><p> 2014-11-12 18:40:50\"</p><p> 2014-11-12 06:11:40\"</p><p> 2014-11-12 06:10:02\"</p><p> 2014-11-11 04:55:53\"</p><p> 2014-11-10 19:47:21\"</p><p> 2014-11-10 13:46:24\"</p><p> 2014-11-10 07:04:06\"</p><p> 2014-11-10 05:35:01\"</p><p> 2014-11-10 05:20:35\"</p><p> 2014-11-21 19:02:22\"</p><p> 2014-11-19 00:34:48\"</p><p> 2014-11-18 23:17:08\"</p><p> 2014-11-17 10:08:26\"</p><p> 2014-11-29 03:02:26\"</p><p> 2014-11-28 20:04:57\"</p><p> 2014-11-28 18:15:57\"</p><p> 2014-12-07 20:55:59\"</p><p> 2014-12-06 03:06:48\"</p><p> 2014-12-03 06:40:08\"</p><p> 2014-12-03 06:13:19\"</p><p> 2014-12-03 06:06:57\"</p><p> 2014-12-02 04:10:37\"</p><p> 2014-12-01 18:54:45\"</p><p> 2014-12-01 17:49:08\"</p><p> 2014-12-14 03:44:13\"</p><p> 2014-12-14 01:22:16\"</p><p> 2014-12-14 00:09:41\"</p><p> 2014-12-13 03:58:47\"</p><p> 2014-12-12 05:39:09\"</p><p> 2014-12-12 05:00:30\"</p><p> 2014-12-12 00:37:00\"</p><p> 2014-12-10 18:30:45\"</p><p> 2014-12-09 08:15:18\"</p><p> 2014-12-19 07:25:47\"</p><p> 2014-12-19 06:29:45\"</p><p> 2014-12-18 01:01:21\"</p><p> 2014-12-16 23:30:40\"</p><p> 2014-12-15 02:18:51\"</p><p> 2014-12-27 19:27:25\"</p><p> 2014-12-27 01:56:44\"</p><p> 2014-12-22 04:19:22\"</p><p> 2015-01-02 17:32:59\"</p><p> 2015-01-08 02:54:53\"</p>"
       ],
       "metadata": {},
       "output_type": "pyout",
       "prompt_number": 37,
       "text": [
        "<IPython.core.display.HTML at 0x10ed7e470>"
       ]
      }
     ],
     "prompt_number": 37
    },
    {
     "cell_type": "code",
     "collapsed": false,
     "input": [
      "mint=1407716699\n",
      "maxt=1420680255\n",
      "sds = 3600 * 24 * 7 \n",
      "(maxt-mint)//sds"
     ],
     "language": "python",
     "metadata": {},
     "outputs": [
      {
       "metadata": {},
       "output_type": "pyout",
       "prompt_number": 20,
       "text": [
        "21"
       ]
      }
     ],
     "prompt_number": 20
    },
    {
     "cell_type": "code",
     "collapsed": false,
     "input": [
      "result"
     ],
     "language": "python",
     "metadata": {},
     "outputs": [
      {
       "metadata": {},
       "output_type": "pyout",
       "prompt_number": 30,
       "text": [
        "''"
       ]
      }
     ],
     "prompt_number": 30
    },
    {
     "cell_type": "code",
     "collapsed": false,
     "input": [],
     "language": "python",
     "metadata": {},
     "outputs": []
    }
   ],
   "metadata": {}
  }
 ]
}