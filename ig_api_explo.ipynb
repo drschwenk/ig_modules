{
 "metadata": {
  "name": "",
  "signature": "sha256:3e6a92936973070bf7dfd3879fb68984139e88cb86073875f58497685a8e175f"
 },
 "nbformat": 3,
 "nbformat_minor": 0,
 "worksheets": [
  {
   "cells": [
    {
     "cell_type": "code",
     "collapsed": false,
     "input": [
      "%pylab inline \n",
      "\n",
      "from pylab import *\n",
      "import skimage\n",
      "from skimage import io\n",
      "import skimage.io._io as io\n",
      "from skimage.data import load\n",
      "from PIL import Image"
     ],
     "language": "python",
     "metadata": {},
     "outputs": [
      {
       "output_type": "stream",
       "stream": "stdout",
       "text": [
        "Populating the interactive namespace from numpy and matplotlib\n"
       ]
      }
     ],
     "prompt_number": 1
    },
    {
     "cell_type": "code",
     "collapsed": false,
     "input": [
      "from skimage.data import camera\n",
      "\n",
      "# this loads a stock photo from the scikit-image library!\n",
      "im_orig = camera()\n",
      "\n",
      "# print ('image shape:', im_orig.shape)\n",
      "# print ('image (min,max):', im_orig.min(), im_orig.max())\n",
      "\n",
      "# gray()          # set default colormap to gray scale\n",
      "# imshow(im_orig)"
     ],
     "language": "python",
     "metadata": {},
     "outputs": [],
     "prompt_number": 16
    },
    {
     "cell_type": "code",
     "collapsed": false,
     "input": [
      "from skimage import data, segmentation, filter, color\n",
      "import matplotlib.pyplot as plt\n",
      "\n",
      "coins = data.coins()\n",
      "mask = coins > filter.threshold_otsu(coins)\n",
      "clean_border = segmentation.clear_border(mask)\n",
      "\n",
      "coins_edges = segmentation.mark_boundaries(color.gray2rgb(coins),clean_border)\n",
      "\n",
      "\n",
      "# plt.figure(figsize=(8, 3.5))\n",
      "# plt.subplot(121)\n",
      "# plt.imshow(clean_border, cmap='gray')\n",
      "# plt.axis('off')\n",
      "# plt.subplot(122)\n",
      "# plt.imshow(coins_edges)\n",
      "# plt.axis('off')\n",
      "\n",
      "# plt.tight_layout()\n",
      "# plt.show()"
     ],
     "language": "python",
     "metadata": {},
     "outputs": [],
     "prompt_number": 15
    },
    {
     "cell_type": "code",
     "collapsed": false,
     "input": [
      "from i_tokes import *"
     ],
     "language": "python",
     "metadata": {},
     "outputs": [],
     "prompt_number": 4
    },
    {
     "cell_type": "code",
     "collapsed": false,
     "input": [
      "def location_search(): \n",
      "    access_token = request.session['access_token']\n",
      "    content = \"<h2>Location Search</h2>\"\n",
      "    if not access_token:\n",
      "        return 'Missing Access Token'\n",
      "    try:\n",
      "        api = client.InstagramAPI(access_token=access_token)\n",
      "        location_search = api.location_search(lat=\"40.113818215462999\",lng=\"-88.207689252733005\",distance=1000)\n",
      "        locations = []\n",
      "        for location in location_search:\n",
      "            locations.append('<li>%s  <a href=\"https://www.google.com/maps/preview/@%s,%s,19z\">Map</a>  </li>' % (location.name,location.point.latitude,location.point.longitude))\n",
      "        content += ''.join(locations)\n",
      "    except Exception as e:\n",
      "        print(e)              \n",
      "    return \"%s %s <br/>Remaining API Calls = %s/%s\" % (get_nav(),content,api.x_ratelimit_remaining,api.x_ratelimit)"
     ],
     "language": "python",
     "metadata": {},
     "outputs": []
    },
    {
     "cell_type": "code",
     "collapsed": false,
     "input": [
      "location_search = api.location_search(lat=\"40.113818215462999\",lng=\"-88.207689252733005\",distance=10)"
     ],
     "language": "python",
     "metadata": {},
     "outputs": [],
     "prompt_number": 34
    },
    {
     "cell_type": "code",
     "collapsed": false,
     "input": [
      "content = \"<h2>Location Recent Media</h2>\"\n",
      "try:\n",
      "    media_search = api.media_search(lat=\"40.113818215462999\",lng=\"-88.207689252733005\",distance=50)    \n",
      "    photos = []\n",
      "    for media in media_search:\n",
      "        photos.append('<img src=\"%s\"/>' % media.get_standard_resolution_url())\n",
      "    content += ''.join(photos)\n",
      "except Exception as e:\n",
      "    print(e)  "
     ],
     "language": "python",
     "metadata": {},
     "outputs": [],
     "prompt_number": 18
    },
    {
     "cell_type": "code",
     "collapsed": false,
     "input": [
      "from IPython.core.display import HTML\n",
      "HTML(content)  "
     ],
     "language": "python",
     "metadata": {},
     "outputs": [
      {
       "html": [
        "<h2>Location Recent Media</h2><img src=\"http://scontent.cdninstagram.com/hphotos-xaf1/t51.2885-15/e15/10986319_908444955862014_1076677800_n.jpg\"/><img src=\"http://scontent.cdninstagram.com/hphotos-xfa1/t51.2885-15/e15/10986308_803700449701680_1185390737_n.jpg\"/><img src=\"http://scontent.cdninstagram.com/hphotos-xaf1/t51.2885-15/e15/10932549_1544004552533312_1909523813_n.jpg\"/><img src=\"http://scontent.cdninstagram.com/hphotos-xfa1/t51.2885-15/e15/11018555_905465142827113_1883210959_n.jpg\"/><img src=\"http://scontent.cdninstagram.com/hphotos-xaf1/t51.2885-15/e15/10963825_611440838988913_242881459_n.jpg\"/><img src=\"http://scontent.cdninstagram.com/hphotos-xfa1/t51.2885-15/e15/10963820_850517354987362_625790458_n.jpg\"/><img src=\"http://scontent.cdninstagram.com/hphotos-xaf1/t51.2885-15/e15/10963915_913397748722776_1858544644_n.jpg\"/><img src=\"http://scontent.cdninstagram.com/hphotos-xfp1/t51.2885-15/e15/10413063_1551246268464379_413178772_n.jpg\"/><img src=\"http://scontent.cdninstagram.com/hphotos-xaf1/t51.2885-15/e15/10914664_787489374667037_754961075_n.jpg\"/><img src=\"http://scontent.cdninstagram.com/hphotos-xaf1/t51.2885-15/e15/10985989_402035473311632_714864096_n.jpg\"/><img src=\"http://scontent.cdninstagram.com/hphotos-xfa1/t51.2885-15/e15/10914641_1415116162118314_1174894778_n.jpg\"/><img src=\"http://scontent.cdninstagram.com/hphotos-xaf1/t51.2885-15/e15/10958391_767828369970851_1193177594_n.jpg\"/><img src=\"http://scontent.cdninstagram.com/hphotos-xaf1/t51.2885-15/e15/10983619_406770949498710_160198223_n.jpg\"/><img src=\"http://scontent.cdninstagram.com/hphotos-xpa1/t51.2885-15/e15/10632134_1524108081159855_758892240_n.jpg\"/><img src=\"http://scontent.cdninstagram.com/hphotos-xpa1/t51.2885-15/e15/10610959_1501634540074805_1759669997_n.jpg\"/><img src=\"http://scontent.cdninstagram.com/hphotos-xaf1/t51.2885-15/e15/10449148_1070376056325418_472184646_n.jpg\"/>"
       ],
       "metadata": {},
       "output_type": "pyout",
       "prompt_number": 19,
       "text": [
        "<IPython.core.display.HTML at 0x10d3df978>"
       ]
      }
     ],
     "prompt_number": 19
    },
    {
     "cell_type": "code",
     "collapsed": false,
     "input": [
      "latitude = 40.113818215462999\n",
      "longitude = -88.207689252733005\n",
      "try:\n",
      "    media_search = api.media_search(lat=latitude,lng=longitude,distance=50)    \n",
      "    photos = []\n",
      "    for media in media_search:\n",
      "        print(media.caption.text)\n",
      "except Exception as e:\n",
      "    print(e)  \n",
      "    "
     ],
     "language": "python",
     "metadata": {},
     "outputs": [
      {
       "output_type": "stream",
       "stream": "stdout",
       "text": [
        "Lisa's in town \ud83d\ude0f #foodporn\n",
        "#theflight\n",
        "Pulled pork platter with sides of corn bread and twice baked potato casserole \ud83d\ude0d two of my favorite sides! #blackdog #bbq #pulledpork #cornbread #potatocasserole #eaturbana #urbana\n",
        "Burnt end sandwich with sweet potato fries at Black Dog #blackdog #burntends #sandwich #bbq #eaturbana #sweetpotato #fries #urbana\n",
        "OMG black dog excitement faces\n",
        "Great to see @jkrawitz42 down at U of I today\n",
        "the very best food and human\n",
        "And the wait is worth it.\n",
        "#artsyinstagrampictureofadoor\n",
        "Black Dog!\n",
        "It's not your average fancy-coffee-shop-tabletop-insta-pic but it's still beautiful to me. \ud83d\udc2e #stillstuffed #vsco\n",
        "#BBQ at #blackdog with the roommate tonight.\n",
        "#tb to burnt ends from Black dog in #champaign. Definitely one of the best I have tried \ud83d\ude0b\n",
        "How perfect is this? Mom's birthday dinner! Happy 57 :)\n",
        "Looking for my pot of gold at the end of the rainbow!!\n",
        "Five months ago I told Matthew that all I wanted for my birthday was a twice baked potato from Black Dog. A couple days late, but here it is in all its pride and glory.\n"
       ]
      }
     ],
     "prompt_number": 12
    },
    {
     "cell_type": "code",
     "collapsed": false,
     "input": [
      "latitude = 40.110633999999997\n",
      "longitude = -88.207178999999996\n",
      "try:\n",
      "    media_search = api.media_search(lat=latitude,lng=longitude,distance=50)    \n",
      "    photos = []\n",
      "    for media in media_search:\n",
      "        photos.append('<img src=\"%s\"/>' % media.get_standard_resolution_url())\n",
      "    content += ''.join(photos)\n",
      "except Exception as e:\n",
      "    print(e)  "
     ],
     "language": "python",
     "metadata": {},
     "outputs": []
    }
   ],
   "metadata": {}
  }
 ]
}